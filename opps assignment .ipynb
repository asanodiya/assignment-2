{
 "cells": [
  {
   "cell_type": "markdown",
   "id": "f65075f1",
   "metadata": {},
   "source": [
    "# Q1, Create a vehicle class with an init method having instance variables as name_of_vehicle, max_speed and average_of_vehicle.\n",
    "\n"
   ]
  },
  {
   "cell_type": "code",
   "execution_count": 68,
   "id": "a2a044a5",
   "metadata": {},
   "outputs": [],
   "source": [
    " class vehicle:\n",
    "        def __init__(self,name_of_vehicle,max_speed,average_of_vehicle):\n",
    "            self.name_of_vehicle=name_of_vehicle\n",
    "            self.max_speed=max_speed\n",
    "            self.average_of_vehicle=average_of_vehicle\n",
    "            \n",
    "        \n",
    "        \n",
    "        "
   ]
  },
  {
   "cell_type": "markdown",
   "id": "7b1bd216",
   "metadata": {},
   "source": [
    "# Q2. Create a child class car from the vehicle class created in Que 1, which will inherit the vehicle class.Create a method named seating_capacity which takes capacity as an argument and returns the name of the vehicle and its seating capacity.\n"
   ]
  },
  {
   "cell_type": "code",
   "execution_count": 16,
   "id": "6ce93d9c",
   "metadata": {},
   "outputs": [],
   "source": [
    " class Vehicle:\n",
    "        def __init__(self,name_of_vehicle,max_speed,average_of_vehicle):\n",
    "            self.name_of_vehicle=name_of_vehicle\n",
    "            self.max_speed=max_speed\n",
    "            self.average_of_vehicle=average_of_vehicle"
   ]
  },
  {
   "cell_type": "code",
   "execution_count": 25,
   "id": "c84c5476",
   "metadata": {},
   "outputs": [],
   "source": [
    "class Car(Vehicle):\n",
    "    def __init__(self, name_of_vehicle, max_speed, average_of_vehicle):\n",
    "        self.name_of_vehicle=name_of_vehicle\n",
    "        self.max_speed=max_speed\n",
    "        self.average_of_vehicle=average_of_vehicle\n",
    "          \n",
    "        \n",
    "    def seating_capacity(self, capacity):\n",
    "        return f\"{self.name_of_vehicle} has a seating capacity of {capacity} passengers.\"\n"
   ]
  },
  {
   "cell_type": "code",
   "execution_count": 32,
   "id": "2ed7c0b1",
   "metadata": {},
   "outputs": [],
   "source": [
    "now_car = Car(\"Toyota Camry\", 140, 5)\n"
   ]
  },
  {
   "cell_type": "code",
   "execution_count": 34,
   "id": "71f401bc",
   "metadata": {},
   "outputs": [
    {
     "data": {
      "text/plain": [
       "'Toyota Camry'"
      ]
     },
     "execution_count": 34,
     "metadata": {},
     "output_type": "execute_result"
    }
   ],
   "source": [
    "now_car.name_of_vehicle"
   ]
  },
  {
   "cell_type": "code",
   "execution_count": 35,
   "id": "e169a9e4",
   "metadata": {},
   "outputs": [
    {
     "data": {
      "text/plain": [
       "140"
      ]
     },
     "execution_count": 35,
     "metadata": {},
     "output_type": "execute_result"
    }
   ],
   "source": [
    "now_car.max_speed"
   ]
  },
  {
   "cell_type": "code",
   "execution_count": 36,
   "id": "65627041",
   "metadata": {},
   "outputs": [
    {
     "data": {
      "text/plain": [
       "'Toyota Camry has a seating capacity of 67 passengers.'"
      ]
     },
     "execution_count": 36,
     "metadata": {},
     "output_type": "execute_result"
    }
   ],
   "source": [
    "now_car.seating_capacity(67)"
   ]
  },
  {
   "cell_type": "markdown",
   "id": "e935b8c6",
   "metadata": {},
   "source": [
    "# Q3. What is multiple inheritance? Write a python code to demonstrate multiple inheritance."
   ]
  },
  {
   "cell_type": "code",
   "execution_count": 38,
   "id": "4c660b12",
   "metadata": {},
   "outputs": [],
   "source": [
    "class class1:\n",
    "    def addition(self,a,b):\n",
    "        c=a+b\n",
    "        return f\"sum of {a} and {b} is: {c}\" \n",
    "    "
   ]
  },
  {
   "cell_type": "code",
   "execution_count": 40,
   "id": "4ee790f9",
   "metadata": {},
   "outputs": [],
   "source": [
    "class class2:\n",
    "    def multiplication(self,d,f):\n",
    "        e=d*f\n",
    "        print(e)\n",
    "        "
   ]
  },
  {
   "cell_type": "code",
   "execution_count": 47,
   "id": "77fd5dea",
   "metadata": {},
   "outputs": [],
   "source": [
    "class class3(class1,class2):\n",
    "    pass\n",
    "    "
   ]
  },
  {
   "cell_type": "code",
   "execution_count": 48,
   "id": "ac004387",
   "metadata": {},
   "outputs": [],
   "source": [
    "ram=class3()"
   ]
  },
  {
   "cell_type": "code",
   "execution_count": 49,
   "id": "b27ee25f",
   "metadata": {},
   "outputs": [
    {
     "data": {
      "text/plain": [
       "'sum of 2 and 3 is: 5'"
      ]
     },
     "execution_count": 49,
     "metadata": {},
     "output_type": "execute_result"
    }
   ],
   "source": [
    "ram.addition(2,3)"
   ]
  },
  {
   "cell_type": "code",
   "execution_count": 50,
   "id": "fe663216",
   "metadata": {},
   "outputs": [
    {
     "name": "stdout",
     "output_type": "stream",
     "text": [
      "25\n"
     ]
    }
   ],
   "source": [
    "ram.multiplication(5,5)"
   ]
  },
  {
   "cell_type": "markdown",
   "id": "83049cb9",
   "metadata": {},
   "source": [
    "# Q4. What are getter and setter in python? Create a class and create a getter and a setter method in this class."
   ]
  },
  {
   "cell_type": "markdown",
   "id": "d29714a1",
   "metadata": {},
   "source": [
    "In Python, getter and setter methods are used to control access to an object's attributes. They allow you to get and set the values of object attributes while encapsulating the internal details of the object. Getter methods are used to retrieve the value of an attribute, while setter methods are used to set the value of an attribute with some validation or modification logic if needed.\n",
    "\n",
    "Here's an example of creating a class with getter and setter methods in Python:\n",
    "\n",
    "python\n",
    "\n",
    "\n"
   ]
  },
  {
   "cell_type": "code",
   "execution_count": 88,
   "id": "63ff651d",
   "metadata": {},
   "outputs": [],
   "source": [
    "class student:\n",
    "    def __init__(self,name,age):\n",
    "        self._name=name\n",
    "        self._age=age\n",
    "    def get_name(self) :\n",
    "        return self._name\n",
    "    def get_age(self):\n",
    "        return self._age \n",
    "    def set_name(self,name):\n",
    "        self._name\n",
    "    def set_age(self,age) :\n",
    "        self._age = age\n",
    "        \n",
    "        "
   ]
  },
  {
   "cell_type": "code",
   "execution_count": 89,
   "id": "b855c1ac",
   "metadata": {},
   "outputs": [],
   "source": [
    "student1=student('rohit',40)"
   ]
  },
  {
   "cell_type": "code",
   "execution_count": 90,
   "id": "0e6f2211",
   "metadata": {},
   "outputs": [
    {
     "data": {
      "text/plain": [
       "40"
      ]
     },
     "execution_count": 90,
     "metadata": {},
     "output_type": "execute_result"
    }
   ],
   "source": [
    "student1.get_age()"
   ]
  },
  {
   "cell_type": "code",
   "execution_count": 91,
   "id": "23bed66e",
   "metadata": {},
   "outputs": [],
   "source": [
    "student1.set_age(90)"
   ]
  },
  {
   "cell_type": "code",
   "execution_count": 93,
   "id": "b953222a",
   "metadata": {},
   "outputs": [
    {
     "data": {
      "text/plain": [
       "90"
      ]
     },
     "execution_count": 93,
     "metadata": {},
     "output_type": "execute_result"
    }
   ],
   "source": [
    "student1.get_age()"
   ]
  },
  {
   "cell_type": "markdown",
   "id": "67e3eef7",
   "metadata": {},
   "source": [
    "# Q5.What is method overriding in python? Write a python code to demonstrate method overriding."
   ]
  },
  {
   "cell_type": "markdown",
   "id": "8526dee6",
   "metadata": {},
   "source": [
    "Method overriding in Python occurs when a subclass provides a specific implementation of a method that is already defined in its superclass. The overridden method in the subclass has the same name, parameters, and return type as the method in the superclass. When an instance of the subclass calls the overridden method, the subclass's implementation is executed instead of the superclass's.\n",
    "\n",
    "Here's an example of method overriding in Python:"
   ]
  },
  {
   "cell_type": "code",
   "execution_count": null,
   "id": "b45a0058",
   "metadata": {},
   "outputs": [],
   "source": [
    "class Animal:\n",
    "    def speak(self):\n",
    "        return \"Animal speaks.\"\n",
    "\n",
    "class Dog(Animal):\n",
    "    def speak(self):\n",
    "        return \"Dog barks.\"\n",
    "\n",
    "class Cat(Animal):\n",
    "    def speak(self):\n",
    "        return \"Cat meows.\"\n",
    "\n",
    "# Create instances of the Dog and Cat classes\n",
    "dog = Dog()\n",
    "cat = Cat()\n",
    "\n",
    "# Call the speak method on instances\n",
    "print(dog.speak())  # Output: \"Dog barks.\"\n",
    "print(cat.speak())  # Output: \"Cat meows.\"\n",
    "\n",
    "\n",
    "'''There's a base class Animal with a speak method.\n",
    "The Dog and Cat classes are subclasses of Animal.\n",
    "Both Dog and Cat classes override the speak method to provide their specific implementations.''\n"
   ]
  }
 ],
 "metadata": {
  "kernelspec": {
   "display_name": "Python 3 (ipykernel)",
   "language": "python",
   "name": "python3"
  },
  "language_info": {
   "codemirror_mode": {
    "name": "ipython",
    "version": 3
   },
   "file_extension": ".py",
   "mimetype": "text/x-python",
   "name": "python",
   "nbconvert_exporter": "python",
   "pygments_lexer": "ipython3",
   "version": "3.9.12"
  }
 },
 "nbformat": 4,
 "nbformat_minor": 5
}
