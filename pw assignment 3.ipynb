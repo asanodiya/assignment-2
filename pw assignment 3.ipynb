{
 "cells": [
  {
   "cell_type": "markdown",
   "id": "f7f24c7d",
   "metadata": {},
   "source": [
    "# Q1. Which keyword is used to create a function? Create a function to return a list of odd numbers in the range of 1 to 25.\n"
   ]
  },
  {
   "cell_type": "markdown",
   "id": "ba3b5856",
   "metadata": {},
   "source": [
    "in a python 'def' key word is used to create a function \n"
   ]
  },
  {
   "cell_type": "code",
   "execution_count": 9,
   "id": "b8cfca38",
   "metadata": {},
   "outputs": [
    {
     "data": {
      "text/plain": [
       "[1, 3, 5, 7, 9, 11, 13, 15, 17, 19, 21, 23]"
      ]
     },
     "execution_count": 9,
     "metadata": {},
     "output_type": "execute_result"
    }
   ],
   "source": [
    "def odd_number():\n",
    "    odd_list=[]\n",
    "    for i in range(1,25):\n",
    "        if i%2!=0:\n",
    "            odd_list.append(i)\n",
    "    return odd_list\n",
    "result=odd_number()\n",
    "result\n",
    "            \n",
    "                      "
   ]
  },
  {
   "cell_type": "markdown",
   "id": "a0c78b7b",
   "metadata": {},
   "source": [
    "# Q2. Why **args and ***kwargs is used in some functions? Create a function each for *args and ***kwargs to demonstrate their use.\n"
   ]
  },
  {
   "cell_type": "markdown",
   "id": "7dca641e",
   "metadata": {},
   "source": [
    "*args and *kwargs are used in python to create a function to allows no. of variable and key word argument respectivly they are often use to create a function of flaxible infuput variables. "
   ]
  },
  {
   "cell_type": "code",
   "execution_count": 13,
   "id": "afb1174c",
   "metadata": {},
   "outputs": [
    {
     "name": "stdout",
     "output_type": "stream",
     "text": [
      "2\n",
      "3\n",
      "4\n",
      "5\n"
     ]
    }
   ],
   "source": [
    "def number_list(*args):\n",
    "    for i in args:\n",
    "        i+=1\n",
    "        print (i )\n",
    "number_list(1,2,3,4)"
   ]
  },
  {
   "cell_type": "code",
   "execution_count": 39,
   "id": "f8844889",
   "metadata": {},
   "outputs": [
    {
     "name": "stdout",
     "output_type": "stream",
     "text": [
      "bhagwan ram\n",
      "mata sita\n"
     ]
    }
   ],
   "source": [
    "def number_list2(**kwargs):\n",
    "    for i,v in kwargs.items():\n",
    "        print(i,v)\n",
    "        \n",
    "number_list2(bhagwan='ram',mata='sita')\n"
   ]
  },
  {
   "cell_type": "markdown",
   "id": "a07fc861",
   "metadata": {},
   "source": [
    "# "
   ]
  },
  {
   "cell_type": "markdown",
   "id": "dfb8d128",
   "metadata": {},
   "source": [
    "# Q3. What is an iterator in python? Name the method used to initialise the iterator object and the method used for iteration. Use these methods to print the first five elements of the given list [2, 4, 6, 8, 10, 12, 14,16, 18, 20].\n",
    "\n",
    "\n",
    "\n",
    "\n"
   ]
  },
  {
   "cell_type": "markdown",
   "id": "619bb847",
   "metadata": {},
   "source": [
    "iterator is specific abject that represents a stream of data and can be use to iterate through the element of iterable ."
   ]
  },
  {
   "cell_type": "code",
   "execution_count": 40,
   "id": "2155ff6f",
   "metadata": {},
   "outputs": [
    {
     "name": "stdout",
     "output_type": "stream",
     "text": [
      "1\n",
      "2\n",
      "3\n",
      "4\n",
      "5\n"
     ]
    }
   ],
   "source": [
    "my_list = [1, 2, 3, 4, 5]\n",
    "\n",
    "# `my_list` is an iterable, and we can create an iterator from it\n",
    "my_iterator = iter(my_list)\n",
    "\n",
    "# `my_iterator` is an iterator that allows us to loop through the elements\n",
    "for element in my_iterator:\n",
    "    print(element)\n"
   ]
  },
  {
   "cell_type": "markdown",
   "id": "e5c8ef29",
   "metadata": {},
   "source": [
    "# Q4. What is a generator function in python? Why yield keyword is used? Give an example of a generator function."
   ]
  },
  {
   "cell_type": "markdown",
   "id": "10679905",
   "metadata": {},
   "source": [
    "A generator function in Python is a special type of function that allows you to create iterators in a more concise and memory-efficient way compared to traditional iterators. Generator functions are defined using the def keyword, just like regular functions, but they use the yield keyword to yield values one at a time instead of returning a value.\n",
    "\n",
    "**Here's why the yield keyword is used in generator functions:**\n",
    "\n",
    "1. Memory Efficiency: Generator functions generate values on-the-fly and don't store all the values in memory at once. This makes them suitable for generating large sequences of data without consuming excessive memory.\n",
    "\n",
    "2. Laziness: Generators follow a lazy evaluation model, meaning they only compute and yield values when requested. This allows for efficient processing of large datasets or infinite sequences.\n",
    "\n",
    "3. State Retention: When a generator yields a value using yield, it retains its internal state, so it can continue execution from where it left off the next time it's called. This allows you to write sequential code that appears to maintain state between function calls."
   ]
  },
  {
   "cell_type": "code",
   "execution_count": 60,
   "id": "f569dd82",
   "metadata": {},
   "outputs": [
    {
     "name": "stdout",
     "output_type": "stream",
     "text": [
      "0\n",
      "1\n",
      "4\n",
      "9\n",
      "16\n"
     ]
    }
   ],
   "source": [
    "def square_numbers(n):\n",
    "    for i in range(n):\n",
    "        yield i ** 2\n",
    "\n",
    "# Using the generator function\n",
    "my_generator = square_numbers(5)\n",
    "for i in my_generator:\n",
    "    print(i)\n",
    "\n",
    "\n"
   ]
  },
  {
   "cell_type": "markdown",
   "id": "9de6353f",
   "metadata": {},
   "source": [
    "# Q5. Create a generator function for prime numbers less than 1000. Use the next() method to print thefirst 20 prime numbers."
   ]
  },
  {
   "cell_type": "code",
   "execution_count": 65,
   "id": "fcaf27c2",
   "metadata": {},
   "outputs": [
    {
     "name": "stdout",
     "output_type": "stream",
     "text": [
      "2\n",
      "3\n",
      "5\n",
      "7\n",
      "11\n",
      "13\n",
      "17\n",
      "19\n",
      "23\n",
      "29\n",
      "31\n",
      "37\n",
      "41\n",
      "43\n",
      "47\n",
      "53\n",
      "59\n",
      "61\n",
      "67\n",
      "71\n"
     ]
    }
   ],
   "source": [
    "def is_prime(number):\n",
    "    if number <= 1:\n",
    "        return False\n",
    "    if number == 2:\n",
    "        return True\n",
    "    if number % 2 == 0:\n",
    "        return False\n",
    "    for divisor in range(3, int(number**0.5) + 1, 2):\n",
    "        if number % divisor == 0:\n",
    "            return False\n",
    "    return True\n",
    "\n",
    "def prime_generator():\n",
    "    count = 0\n",
    "    number = 2\n",
    "    while count < 20:\n",
    "        if is_prime(number):\n",
    "            yield number\n",
    "            count += 1\n",
    "        number += 1\n",
    "\n",
    "# Create a prime number generator\n",
    "prime_gen = prime_generator()\n",
    "\n",
    "# Print the first 20 prime numbers using next()\n",
    "for i in range(20):\n",
    "    print(next(prime_gen))\n",
    "    "
   ]
  },
  {
   "cell_type": "markdown",
   "id": "89df0ef1",
   "metadata": {},
   "source": [
    "# Q6. Write a python program to print the first 10 Fibonacci numbers using a while loop."
   ]
  },
  {
   "cell_type": "code",
   "execution_count": 8,
   "id": "f02ce72b",
   "metadata": {},
   "outputs": [
    {
     "name": "stdout",
     "output_type": "stream",
     "text": [
      "0******1******1******2******3******5******8******13******21******34******"
     ]
    }
   ],
   "source": [
    "a=0\n",
    "b=1\n",
    "n=0\n",
    "while n<10:\n",
    "    print(a,end=\"******\")\n",
    "    a,b = b,a+b\n",
    "    n+=1\n",
    "    \n",
    "    "
   ]
  },
  {
   "cell_type": "markdown",
   "id": "dd4d4ee3",
   "metadata": {},
   "source": [
    "# Q7. Write a List Comprehension to iterate through the given string: ‘pwskills’.Expected output: ['p', 'w', 's', 'k', 'i', 'l', 'l', 's']"
   ]
  },
  {
   "cell_type": "code",
   "execution_count": 16,
   "id": "e9ede348",
   "metadata": {},
   "outputs": [],
   "source": [
    "s='pwskills'"
   ]
  },
  {
   "cell_type": "code",
   "execution_count": 17,
   "id": "2e117d61",
   "metadata": {},
   "outputs": [
    {
     "data": {
      "text/plain": [
       "['p', 'w', 's', 'k', 'i', 'l', 'l', 's']"
      ]
     },
     "execution_count": 17,
     "metadata": {},
     "output_type": "execute_result"
    }
   ],
   "source": [
    "list(s)"
   ]
  },
  {
   "cell_type": "markdown",
   "id": "ec49385d",
   "metadata": {},
   "source": [
    "# Q8. Write a python program to check whether a given number is Palindrome or not using a while loop."
   ]
  },
  {
   "cell_type": "code",
   "execution_count": 21,
   "id": "836a25b2",
   "metadata": {},
   "outputs": [
    {
     "name": "stdout",
     "output_type": "stream",
     "text": [
      "Enter a number: 11\n",
      "The number is a palindrome.\n"
     ]
    }
   ],
   "source": [
    "# Input the number to check for palindrome\n",
    "num = int(input(\"Enter a number: \"))\n",
    "\n",
    "# Make a copy of the original number for comparison\n",
    "original_num = num\n",
    "\n",
    "# Initialize a variable to store the reversed number\n",
    "reversed_num = 0\n",
    "\n",
    "# Use a while loop to reverse the number\n",
    "while num > 0:\n",
    "    digit = num % 10  # Get the last digit of the number\n",
    "    reversed_num = reversed_num * 10 + digit  # Add the digit to the reversed number\n",
    "    num = num // 10  # Remove the last digit from the original number\n",
    "\n",
    "# Check if the original number is equal to the reversed number\n",
    "if original_num == reversed_num:\n",
    "    print(\"The number is a palindrome.\")\n",
    "else:\n",
    "    print(\"The number is not a palindrome.\")\n"
   ]
  },
  {
   "cell_type": "markdown",
   "id": "e0478c53",
   "metadata": {},
   "source": [
    "# Q9. Write a code to print odd numbers from 1 to 100 using list comprehension."
   ]
  },
  {
   "cell_type": "code",
   "execution_count": 18,
   "id": "9083fbe6",
   "metadata": {},
   "outputs": [
    {
     "name": "stdout",
     "output_type": "stream",
     "text": [
      "[1, 3, 5, 7, 9, 11, 13, 15, 17, 19, 21, 23, 25, 27, 29, 31, 33, 35, 37, 39, 41, 43, 45, 47, 49, 51, 53, 55, 57, 59, 61, 63, 65, 67, 69, 71, 73, 75, 77, 79, 81, 83, 85, 87, 89, 91, 93, 95, 97, 99]\n"
     ]
    }
   ],
   "source": [
    "l=[]\n",
    "for i in range(1,100):\n",
    "    if i%2!=0:\n",
    "        l.append(i)\n",
    "print(l)\n",
    "        \n",
    "        "
   ]
  },
  {
   "cell_type": "code",
   "execution_count": null,
   "id": "45d4fce0",
   "metadata": {},
   "outputs": [],
   "source": []
  },
  {
   "cell_type": "code",
   "execution_count": null,
   "id": "d07fd39d",
   "metadata": {},
   "outputs": [],
   "source": []
  }
 ],
 "metadata": {
  "kernelspec": {
   "display_name": "Python 3 (ipykernel)",
   "language": "python",
   "name": "python3"
  },
  "language_info": {
   "codemirror_mode": {
    "name": "ipython",
    "version": 3
   },
   "file_extension": ".py",
   "mimetype": "text/x-python",
   "name": "python",
   "nbconvert_exporter": "python",
   "pygments_lexer": "ipython3",
   "version": "3.9.12"
  }
 },
 "nbformat": 4,
 "nbformat_minor": 5
}
